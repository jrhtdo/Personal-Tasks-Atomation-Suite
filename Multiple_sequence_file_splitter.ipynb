{
  "nbformat": 4,
  "nbformat_minor": 0,
  "metadata": {
    "accelerator": "GPU",
    "colab": {
      "provenance": [],
      "name": "Multiple sequence file splitter.ipynb",
      "authorship_tag": "ABX9TyPa58oK11vm5XiO7nAru+BT",
      "include_colab_link": true
    },
    "kernelspec": {
      "name": "python3",
      "display_name": "Python 3"
    },
    "language_info": {
      "name": "python"
    }
  },
  "cells": [
    {
      "cell_type": "markdown",
      "metadata": {
        "id": "view-in-github",
        "colab_type": "text"
      },
      "source": [
        "<a href=\"https://colab.research.google.com/github/jrhtdo/Personal-Tasks-Automation-Suite/blob/main/Multiple_sequence_file_splitter.ipynb\" target=\"_parent\"><img src=\"https://colab.research.google.com/assets/colab-badge.svg\" alt=\"Open In Colab\"/></a>"
      ]
    },
    {
      "cell_type": "code",
      "source": [
        "#@title Multiple sequence file splitter { form-width: \"100%\", display-mode: \"form\" }\n",
        "#@markdown This tool splits a multiple sequence file into several files with a specified number of files per sequence\n",
        "num = 4 #@param {type:\"integer\"}\n",
        "#@markdown * Click on 'connect'\n",
        "#@markdown * Specify the number of sequences that should be in each file in the 'num' tab. Click on 'run' or the play button, the upload your file\n",
        "from google.colab import files\n",
        "\n",
        "uploaded = files.upload()\n",
        "\n",
        "for fn in uploaded.keys():\n",
        "  xy=(uploaded[fn].decode('utf-8'))\n",
        "xx=xy.split('>')\n",
        "print(xx)\n",
        "z=[]\n",
        "for i in range(0, len(xx), num):\n",
        "  a=xx[i:i+num]\n",
        "  z.append(a)\n",
        "print(z)\n",
        "for i in z:\n",
        "  result=\"\"\n",
        "  for u in i:\n",
        "    w='>'+u\n",
        "    result+=w\n",
        "  with open(f\"{fn} split {z.index(i)}.fasta\", \"w\") as text_file:\n",
        "    text_file.write(result) \n",
        "  files.download(f\"{fn} split {z.index(i)}.fasta\")\n",
        "\n",
        "  "
      ],
      "metadata": {
        "id": "UcQoIjHXN04p"
      },
      "execution_count": null,
      "outputs": []
    }
  ]
}