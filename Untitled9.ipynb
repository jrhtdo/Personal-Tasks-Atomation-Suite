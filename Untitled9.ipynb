{
  "nbformat": 4,
  "nbformat_minor": 0,
  "metadata": {
    "colab": {
      "provenance": [],
      "authorship_tag": "ABX9TyON65Hrn4V7R9qNgITvmCAX",
      "include_colab_link": true
    },
    "kernelspec": {
      "name": "python3",
      "display_name": "Python 3"
    },
    "language_info": {
      "name": "python"
    }
  },
  "cells": [
    {
      "cell_type": "markdown",
      "metadata": {
        "id": "view-in-github",
        "colab_type": "text"
      },
      "source": [
        "<a href=\"https://colab.research.google.com/github/jrhtdo/Personal-Tasks-Automation-Suite/blob/main/Untitled9.ipynb\" target=\"_parent\"><img src=\"https://colab.research.google.com/assets/colab-badge.svg\" alt=\"Open In Colab\"/></a>"
      ]
    },
    {
      "cell_type": "markdown",
      "source": [
        "(You can automatically add spaces between multiple sequences using the [sequence spacer tool](https://https://colab.research.google.com/github/jrhtdo/Personal-Tasks-Atomation-Suite/blob/main/Sequence_spacer.ipynb))"
      ],
      "metadata": {
        "id": "qI8JpqS__wK8"
      }
    }
  ]
}