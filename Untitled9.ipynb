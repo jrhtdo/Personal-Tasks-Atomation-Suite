{
  "nbformat": 4,
  "nbformat_minor": 0,
  "metadata": {
    "colab": {
      "provenance": [],
      "authorship_tag": "ABX9TyOUgnCrYB4piGZgHzS/QEYR",
      "include_colab_link": true
    },
    "kernelspec": {
      "name": "python3",
      "display_name": "Python 3"
    },
    "language_info": {
      "name": "python"
    }
  },
  "cells": [
    {
      "cell_type": "markdown",
      "metadata": {
        "id": "view-in-github",
        "colab_type": "text"
      },
      "source": [
        "<a href=\"https://colab.research.google.com/github/jrhtdo/Personal-Tasks-Automation-Suite/blob/main/Untitled9.ipynb\" target=\"_parent\"><img src=\"https://colab.research.google.com/assets/colab-badge.svg\" alt=\"Open In Colab\"/></a>"
      ]
    },
    {
      "cell_type": "markdown",
      "source": [
        "*(Some browsers do not allowresults to be downloaded automatically. If you are facing this problem, click on the folder icon in the left pannel. The results are 3 files (1. jobname + properties, 2, jobname + translation, 3. zip file(s) containing 3d structures of each sequence : one zip file per sequence).*"
      ],
      "metadata": {
        "id": "qI8JpqS__wK8"
      }
    }
  ]
}