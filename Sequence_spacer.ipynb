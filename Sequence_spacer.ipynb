{
  "nbformat": 4,
  "nbformat_minor": 0,
  "metadata": {
    "colab": {
      "provenance": [],
      "authorship_tag": "ABX9TyNDLQUdffVEbPci/ZgdZmNv",
      "include_colab_link": true
    },
    "kernelspec": {
      "name": "python3",
      "display_name": "Python 3"
    },
    "language_info": {
      "name": "python"
    }
  },
  "cells": [
    {
      "cell_type": "markdown",
      "metadata": {
        "id": "view-in-github",
        "colab_type": "text"
      },
      "source": [
        "<a href=\"https://colab.research.google.com/github/jrhtdo/Personal-Tasks-Atomation-Suite/blob/main/Sequence_spacer.ipynb\" target=\"_parent\"><img src=\"https://colab.research.google.com/assets/colab-badge.svg\" alt=\"Open In Colab\"/></a>"
      ]
    },
    {
      "cell_type": "code",
      "source": [
        "#@title Sequence Spacer { form-width: \"100%\", display-mode: \"form\" }\n",
        "#@markdown This tool adds spaces between multiple sequences\n",
        "#@markdown * Click on 'connect'\n",
        "#@markdown * Click on 'run' or the play button, the upload your file\n",
        "from google.colab import files\n",
        "\n",
        "uploaded = files.upload()\n",
        "\n",
        "for fn in uploaded.keys():\n",
        "  xy=(uploaded[fn].decode('utf-8'))\n",
        "xx=xy.split('>')\n",
        "xxx = [i.split('\\n', 1) for i in xx]\n",
        "z=''\n",
        "for i in xxx:\n",
        "  if '' in i or '>' in i[1] or i==[]:\n",
        "    continue\n",
        "  else:\n",
        "    a=i[1]\n",
        "    b=a.replace('\\n','')\n",
        "    \n",
        "    z+=str('>'+i[0])+'\\n'+str(b)+'\\n\\n'\n",
        "\n",
        "with open(f\"{fn} spaced.fasta\", \"w\") as text_file:\n",
        "  text_file.write(z) \n",
        "files.download(f\"{fn} spaced.fasta\")"
      ],
      "metadata": {
        "id": "UcQoIjHXN04p"
      },
      "execution_count": null,
      "outputs": []
    }
  ]
}